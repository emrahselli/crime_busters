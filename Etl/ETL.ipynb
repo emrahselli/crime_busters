{
 "cells": [
  {
   "cell_type": "code",
   "execution_count": 32,
   "metadata": {},
   "outputs": [],
   "source": [
    "import pandas as pd\n",
    "from sqlalchemy import create_engine\n",
    "import numpy as np\n",
    "import time\n",
    "from sodapy import Socrata"
   ]
  },
  {
   "cell_type": "code",
   "execution_count": 27,
   "metadata": {},
   "outputs": [],
   "source": [
    "#json file\n",
    "crime_df = pd.DataFrame()\n",
    "for i in range(500):\n",
    "    offset = 2000*i\n",
    "    limit = 2000\n",
    "    df = pd.read_json(f\"https://data.cityofchicago.org/resource/crimes.json?$limit=2000&$offset={offset}\")\n",
    "    crime_df = crime_df.append(other=df)"
   ]
  },
  {
   "cell_type": "code",
   "execution_count": 33,
   "metadata": {},
   "outputs": [
    {
     "data": {
      "text/html": [
       "<div>\n",
       "<style scoped>\n",
       "    .dataframe tbody tr th:only-of-type {\n",
       "        vertical-align: middle;\n",
       "    }\n",
       "\n",
       "    .dataframe tbody tr th {\n",
       "        vertical-align: top;\n",
       "    }\n",
       "\n",
       "    .dataframe thead th {\n",
       "        text-align: right;\n",
       "    }\n",
       "</style>\n",
       "<table border=\"1\" class=\"dataframe\">\n",
       "  <thead>\n",
       "    <tr style=\"text-align: right;\">\n",
       "      <th></th>\n",
       "      <th>ward</th>\n",
       "      <th>primary_type</th>\n",
       "      <th>arrest</th>\n",
       "      <th>location_description</th>\n",
       "      <th>year</th>\n",
       "      <th>latitude</th>\n",
       "      <th>longitude</th>\n",
       "    </tr>\n",
       "  </thead>\n",
       "  <tbody>\n",
       "    <tr>\n",
       "      <th>0</th>\n",
       "      <td>16.0</td>\n",
       "      <td>THEFT</td>\n",
       "      <td>False</td>\n",
       "      <td>SIDEWALK</td>\n",
       "      <td>2019</td>\n",
       "      <td>41.771737</td>\n",
       "      <td>-87.664006</td>\n",
       "    </tr>\n",
       "    <tr>\n",
       "      <th>1</th>\n",
       "      <td>28.0</td>\n",
       "      <td>NARCOTICS</td>\n",
       "      <td>True</td>\n",
       "      <td>STREET</td>\n",
       "      <td>2019</td>\n",
       "      <td>41.879612</td>\n",
       "      <td>-87.709447</td>\n",
       "    </tr>\n",
       "    <tr>\n",
       "      <th>2</th>\n",
       "      <td>24.0</td>\n",
       "      <td>INTERFERENCE WITH PUBLIC OFFICER</td>\n",
       "      <td>True</td>\n",
       "      <td>POLICE FACILITY/VEH PARKING LOT</td>\n",
       "      <td>2019</td>\n",
       "      <td>41.873699</td>\n",
       "      <td>-87.704705</td>\n",
       "    </tr>\n",
       "    <tr>\n",
       "      <th>3</th>\n",
       "      <td>24.0</td>\n",
       "      <td>BATTERY</td>\n",
       "      <td>True</td>\n",
       "      <td>STREET</td>\n",
       "      <td>2019</td>\n",
       "      <td>41.865495</td>\n",
       "      <td>-87.728818</td>\n",
       "    </tr>\n",
       "    <tr>\n",
       "      <th>4</th>\n",
       "      <td>17.0</td>\n",
       "      <td>ROBBERY</td>\n",
       "      <td>False</td>\n",
       "      <td>GAS STATION</td>\n",
       "      <td>2019</td>\n",
       "      <td>41.771532</td>\n",
       "      <td>-87.702965</td>\n",
       "    </tr>\n",
       "  </tbody>\n",
       "</table>\n",
       "</div>"
      ],
      "text/plain": [
       "   ward                      primary_type  arrest  \\\n",
       "0  16.0                             THEFT   False   \n",
       "1  28.0                         NARCOTICS    True   \n",
       "2  24.0  INTERFERENCE WITH PUBLIC OFFICER    True   \n",
       "3  24.0                           BATTERY    True   \n",
       "4  17.0                           ROBBERY   False   \n",
       "\n",
       "              location_description  year   latitude  longitude  \n",
       "0                         SIDEWALK  2019  41.771737 -87.664006  \n",
       "1                           STREET  2019  41.879612 -87.709447  \n",
       "2  POLICE FACILITY/VEH PARKING LOT  2019  41.873699 -87.704705  \n",
       "3                           STREET  2019  41.865495 -87.728818  \n",
       "4                      GAS STATION  2019  41.771532 -87.702965  "
      ]
     },
     "execution_count": 33,
     "metadata": {},
     "output_type": "execute_result"
    }
   ],
   "source": [
    "#selection of data from main table\n",
    "new_crime_df = crime_df[['ward','primary_type','arrest','location_description','year','latitude','longitude']].copy()\n",
    "new_crime_df.head()"
   ]
  },
  {
   "cell_type": "code",
   "execution_count": 57,
   "metadata": {},
   "outputs": [],
   "source": [
    "#transform dataframe\n",
    "transf_crime_df = ['ward','primary_type','arrest','year','location_description','latitude','longitude']\n",
    "transf_crime_chicago = new_crime_df[transf_crime_df].copy()"
   ]
  },
  {
   "cell_type": "code",
   "execution_count": 58,
   "metadata": {},
   "outputs": [],
   "source": [
    "# Rename the column headers\n",
    "transf_crime_chicago = transf_crime_chicago.rename(columns={\"ward\": \"ward_no\",\n",
    "                                                          \"primary_type\": \"Crimetype\",\n",
    "                                                          \"arrest\": \"Arrest\",\n",
    "                                                           \"year\":\"Year\",\n",
    "                                                            \"location_description\":\"Crime_location\",\n",
    "                                                            \"latitude\":\"Latitude\",\n",
    "                                                            \"longitude\":\"Longitude\"})"
   ]
  },
  {
   "cell_type": "code",
   "execution_count": 59,
   "metadata": {},
   "outputs": [
    {
     "data": {
      "text/html": [
       "<div>\n",
       "<style scoped>\n",
       "    .dataframe tbody tr th:only-of-type {\n",
       "        vertical-align: middle;\n",
       "    }\n",
       "\n",
       "    .dataframe tbody tr th {\n",
       "        vertical-align: top;\n",
       "    }\n",
       "\n",
       "    .dataframe thead th {\n",
       "        text-align: right;\n",
       "    }\n",
       "</style>\n",
       "<table border=\"1\" class=\"dataframe\">\n",
       "  <thead>\n",
       "    <tr style=\"text-align: right;\">\n",
       "      <th></th>\n",
       "      <th>ward_no</th>\n",
       "      <th>Crimetype</th>\n",
       "      <th>Arrest</th>\n",
       "      <th>Year</th>\n",
       "      <th>Crime_location</th>\n",
       "      <th>Latitude</th>\n",
       "      <th>Longitude</th>\n",
       "    </tr>\n",
       "  </thead>\n",
       "  <tbody>\n",
       "    <tr>\n",
       "      <th>0</th>\n",
       "      <td>16.0</td>\n",
       "      <td>THEFT</td>\n",
       "      <td>False</td>\n",
       "      <td>2019</td>\n",
       "      <td>SIDEWALK</td>\n",
       "      <td>41.771737</td>\n",
       "      <td>-87.664006</td>\n",
       "    </tr>\n",
       "    <tr>\n",
       "      <th>1</th>\n",
       "      <td>28.0</td>\n",
       "      <td>NARCOTICS</td>\n",
       "      <td>True</td>\n",
       "      <td>2019</td>\n",
       "      <td>STREET</td>\n",
       "      <td>41.879612</td>\n",
       "      <td>-87.709447</td>\n",
       "    </tr>\n",
       "    <tr>\n",
       "      <th>2</th>\n",
       "      <td>24.0</td>\n",
       "      <td>INTERFERENCE WITH PUBLIC OFFICER</td>\n",
       "      <td>True</td>\n",
       "      <td>2019</td>\n",
       "      <td>POLICE FACILITY/VEH PARKING LOT</td>\n",
       "      <td>41.873699</td>\n",
       "      <td>-87.704705</td>\n",
       "    </tr>\n",
       "    <tr>\n",
       "      <th>3</th>\n",
       "      <td>24.0</td>\n",
       "      <td>BATTERY</td>\n",
       "      <td>True</td>\n",
       "      <td>2019</td>\n",
       "      <td>STREET</td>\n",
       "      <td>41.865495</td>\n",
       "      <td>-87.728818</td>\n",
       "    </tr>\n",
       "    <tr>\n",
       "      <th>4</th>\n",
       "      <td>17.0</td>\n",
       "      <td>ROBBERY</td>\n",
       "      <td>False</td>\n",
       "      <td>2019</td>\n",
       "      <td>GAS STATION</td>\n",
       "      <td>41.771532</td>\n",
       "      <td>-87.702965</td>\n",
       "    </tr>\n",
       "  </tbody>\n",
       "</table>\n",
       "</div>"
      ],
      "text/plain": [
       "   ward_no                         Crimetype  Arrest  Year  \\\n",
       "0     16.0                             THEFT   False  2019   \n",
       "1     28.0                         NARCOTICS    True  2019   \n",
       "2     24.0  INTERFERENCE WITH PUBLIC OFFICER    True  2019   \n",
       "3     24.0                           BATTERY    True  2019   \n",
       "4     17.0                           ROBBERY   False  2019   \n",
       "\n",
       "                    Crime_location   Latitude  Longitude  \n",
       "0                         SIDEWALK  41.771737 -87.664006  \n",
       "1                           STREET  41.879612 -87.709447  \n",
       "2  POLICE FACILITY/VEH PARKING LOT  41.873699 -87.704705  \n",
       "3                           STREET  41.865495 -87.728818  \n",
       "4                      GAS STATION  41.771532 -87.702965  "
      ]
     },
     "execution_count": 59,
     "metadata": {},
     "output_type": "execute_result"
    }
   ],
   "source": [
    "transf_crime_chicago.head()"
   ]
  },
  {
   "cell_type": "code",
   "execution_count": 60,
   "metadata": {},
   "outputs": [
    {
     "data": {
      "text/plain": [
       "(1000000, 7)"
      ]
     },
     "execution_count": 60,
     "metadata": {},
     "output_type": "execute_result"
    }
   ],
   "source": [
    "transf_crime_chicago.shape\n"
   ]
  },
  {
   "cell_type": "code",
   "execution_count": 4,
   "metadata": {},
   "outputs": [],
   "source": [
    "#connection with database name \"chicago_crime_db\"\n",
    "rds_connection_string = f\"postgres:sherkhan@localhost:5432/chicago_crime_db\"\n",
    "engine = create_engine(f'postgresql://{rds_connection_string}')"
   ]
  },
  {
   "cell_type": "code",
   "execution_count": 66,
   "metadata": {},
   "outputs": [],
   "source": [
    "#inserting and creating table in database\n",
    "transf_crime_chicago.to_sql(name='chicago_crimes', con=engine, if_exists='append', index=False)"
   ]
  },
  {
   "cell_type": "code",
   "execution_count": 34,
   "metadata": {},
   "outputs": [],
   "source": [
    "#reading data from database\n",
    "df = pd.read_sql_query('select * from chicago_crimes', con=engine)\n"
   ]
  },
  {
   "cell_type": "code",
   "execution_count": 35,
   "metadata": {},
   "outputs": [],
   "source": [
    "#changing name of coulms from previous table \n",
    "df.columns = ['ward_no', 'crime_type', 'arrest', 'year', 'crime_location', 'latitude',\n",
    "       'longitude']"
   ]
  },
  {
   "cell_type": "code",
   "execution_count": 36,
   "metadata": {},
   "outputs": [
    {
     "data": {
      "text/plain": [
       "(1000000, 7)"
      ]
     },
     "execution_count": 36,
     "metadata": {},
     "output_type": "execute_result"
    }
   ],
   "source": [
    "df.shape"
   ]
  },
  {
   "cell_type": "code",
   "execution_count": 25,
   "metadata": {},
   "outputs": [
    {
     "data": {
      "text/html": [
       "<div>\n",
       "<style scoped>\n",
       "    .dataframe tbody tr th:only-of-type {\n",
       "        vertical-align: middle;\n",
       "    }\n",
       "\n",
       "    .dataframe tbody tr th {\n",
       "        vertical-align: top;\n",
       "    }\n",
       "\n",
       "    .dataframe thead th {\n",
       "        text-align: right;\n",
       "    }\n",
       "</style>\n",
       "<table border=\"1\" class=\"dataframe\">\n",
       "  <thead>\n",
       "    <tr style=\"text-align: right;\">\n",
       "      <th></th>\n",
       "      <th>ward_no</th>\n",
       "      <th>crime_type</th>\n",
       "      <th>arrest</th>\n",
       "      <th>year</th>\n",
       "      <th>crime_location</th>\n",
       "      <th>latitude</th>\n",
       "      <th>longitude</th>\n",
       "    </tr>\n",
       "  </thead>\n",
       "  <tbody>\n",
       "    <tr>\n",
       "      <th>0</th>\n",
       "      <td>16.0</td>\n",
       "      <td>THEFT</td>\n",
       "      <td>False</td>\n",
       "      <td>2019</td>\n",
       "      <td>SIDEWALK</td>\n",
       "      <td>41.771737</td>\n",
       "      <td>-87.664006</td>\n",
       "    </tr>\n",
       "    <tr>\n",
       "      <th>1</th>\n",
       "      <td>28.0</td>\n",
       "      <td>NARCOTICS</td>\n",
       "      <td>True</td>\n",
       "      <td>2019</td>\n",
       "      <td>STREET</td>\n",
       "      <td>41.879612</td>\n",
       "      <td>-87.709447</td>\n",
       "    </tr>\n",
       "    <tr>\n",
       "      <th>2</th>\n",
       "      <td>24.0</td>\n",
       "      <td>INTERFERENCE WITH PUBLIC OFFICER</td>\n",
       "      <td>True</td>\n",
       "      <td>2019</td>\n",
       "      <td>POLICE FACILITY/VEH PARKING LOT</td>\n",
       "      <td>41.873699</td>\n",
       "      <td>-87.704705</td>\n",
       "    </tr>\n",
       "    <tr>\n",
       "      <th>3</th>\n",
       "      <td>24.0</td>\n",
       "      <td>BATTERY</td>\n",
       "      <td>True</td>\n",
       "      <td>2019</td>\n",
       "      <td>STREET</td>\n",
       "      <td>41.865495</td>\n",
       "      <td>-87.728818</td>\n",
       "    </tr>\n",
       "    <tr>\n",
       "      <th>4</th>\n",
       "      <td>17.0</td>\n",
       "      <td>ROBBERY</td>\n",
       "      <td>False</td>\n",
       "      <td>2019</td>\n",
       "      <td>GAS STATION</td>\n",
       "      <td>41.771532</td>\n",
       "      <td>-87.702965</td>\n",
       "    </tr>\n",
       "  </tbody>\n",
       "</table>\n",
       "</div>"
      ],
      "text/plain": [
       "   ward_no                        crime_type  arrest  year  \\\n",
       "0     16.0                             THEFT   False  2019   \n",
       "1     28.0                         NARCOTICS    True  2019   \n",
       "2     24.0  INTERFERENCE WITH PUBLIC OFFICER    True  2019   \n",
       "3     24.0                           BATTERY    True  2019   \n",
       "4     17.0                           ROBBERY   False  2019   \n",
       "\n",
       "                    crime_location   latitude  longitude  \n",
       "0                         SIDEWALK  41.771737 -87.664006  \n",
       "1                           STREET  41.879612 -87.709447  \n",
       "2  POLICE FACILITY/VEH PARKING LOT  41.873699 -87.704705  \n",
       "3                           STREET  41.865495 -87.728818  \n",
       "4                      GAS STATION  41.771532 -87.702965  "
      ]
     },
     "execution_count": 25,
     "metadata": {},
     "output_type": "execute_result"
    }
   ],
   "source": [
    "df_crime = df\n",
    "df_crime.head()"
   ]
  },
  {
   "cell_type": "code",
   "execution_count": 26,
   "metadata": {},
   "outputs": [],
   "source": [
    "#connection with database name \"chicago_crime_db\"\n",
    "rds_connection_string = f\"postgres:sherkhan@localhost:5432/chicago_crime_db\"\n",
    "engine = create_engine(f'postgresql://{rds_connection_string}')"
   ]
  },
  {
   "cell_type": "code",
   "execution_count": null,
   "metadata": {},
   "outputs": [],
   "source": [
    "#inserting and creating table in database with table name chicago_crime\n",
    "df_crime.to_sql(name='chicago_crime', con=engine, if_exists='append', index=False)\n"
   ]
  },
  {
   "cell_type": "code",
   "execution_count": 37,
   "metadata": {},
   "outputs": [
    {
     "data": {
      "text/html": [
       "<div>\n",
       "<style scoped>\n",
       "    .dataframe tbody tr th:only-of-type {\n",
       "        vertical-align: middle;\n",
       "    }\n",
       "\n",
       "    .dataframe tbody tr th {\n",
       "        vertical-align: top;\n",
       "    }\n",
       "\n",
       "    .dataframe thead th {\n",
       "        text-align: right;\n",
       "    }\n",
       "</style>\n",
       "<table border=\"1\" class=\"dataframe\">\n",
       "  <thead>\n",
       "    <tr style=\"text-align: right;\">\n",
       "      <th></th>\n",
       "      <th>ward_no</th>\n",
       "      <th>crime_type</th>\n",
       "      <th>arrest</th>\n",
       "      <th>year</th>\n",
       "      <th>crime_location</th>\n",
       "      <th>latitude</th>\n",
       "      <th>longitude</th>\n",
       "    </tr>\n",
       "  </thead>\n",
       "  <tbody>\n",
       "    <tr>\n",
       "      <th>0</th>\n",
       "      <td>16.0</td>\n",
       "      <td>THEFT</td>\n",
       "      <td>False</td>\n",
       "      <td>2019</td>\n",
       "      <td>SIDEWALK</td>\n",
       "      <td>41.771737</td>\n",
       "      <td>-87.664006</td>\n",
       "    </tr>\n",
       "    <tr>\n",
       "      <th>1</th>\n",
       "      <td>28.0</td>\n",
       "      <td>NARCOTICS</td>\n",
       "      <td>True</td>\n",
       "      <td>2019</td>\n",
       "      <td>STREET</td>\n",
       "      <td>41.879612</td>\n",
       "      <td>-87.709447</td>\n",
       "    </tr>\n",
       "    <tr>\n",
       "      <th>2</th>\n",
       "      <td>24.0</td>\n",
       "      <td>INTERFERENCE WITH PUBLIC OFFICER</td>\n",
       "      <td>True</td>\n",
       "      <td>2019</td>\n",
       "      <td>POLICE FACILITY/VEH PARKING LOT</td>\n",
       "      <td>41.873699</td>\n",
       "      <td>-87.704705</td>\n",
       "    </tr>\n",
       "    <tr>\n",
       "      <th>3</th>\n",
       "      <td>24.0</td>\n",
       "      <td>BATTERY</td>\n",
       "      <td>True</td>\n",
       "      <td>2019</td>\n",
       "      <td>STREET</td>\n",
       "      <td>41.865495</td>\n",
       "      <td>-87.728818</td>\n",
       "    </tr>\n",
       "    <tr>\n",
       "      <th>4</th>\n",
       "      <td>17.0</td>\n",
       "      <td>ROBBERY</td>\n",
       "      <td>False</td>\n",
       "      <td>2019</td>\n",
       "      <td>GAS STATION</td>\n",
       "      <td>41.771532</td>\n",
       "      <td>-87.702965</td>\n",
       "    </tr>\n",
       "  </tbody>\n",
       "</table>\n",
       "</div>"
      ],
      "text/plain": [
       "   ward_no                        crime_type  arrest  year  \\\n",
       "0     16.0                             THEFT   False  2019   \n",
       "1     28.0                         NARCOTICS    True  2019   \n",
       "2     24.0  INTERFERENCE WITH PUBLIC OFFICER    True  2019   \n",
       "3     24.0                           BATTERY    True  2019   \n",
       "4     17.0                           ROBBERY   False  2019   \n",
       "\n",
       "                    crime_location   latitude  longitude  \n",
       "0                         SIDEWALK  41.771737 -87.664006  \n",
       "1                           STREET  41.879612 -87.709447  \n",
       "2  POLICE FACILITY/VEH PARKING LOT  41.873699 -87.704705  \n",
       "3                           STREET  41.865495 -87.728818  \n",
       "4                      GAS STATION  41.771532 -87.702965  "
      ]
     },
     "execution_count": 37,
     "metadata": {},
     "output_type": "execute_result"
    }
   ],
   "source": [
    "#retriving data from database\n",
    "pd.read_sql_query('select * from chicago_crime', con=engine).head()"
   ]
  },
  {
   "cell_type": "code",
   "execution_count": null,
   "metadata": {},
   "outputs": [],
   "source": [
    "#By using Chicago Crime API we retrive data and save in database \"chicago_crime_db\" table name \"chciago_crime\"\n",
    "# we export the cvs file from database chciago_crime\n",
    "# will use that table "
   ]
  }
 ],
 "metadata": {
  "kernelspec": {
   "display_name": "Python 3",
   "language": "python",
   "name": "python3"
  },
  "language_info": {
   "codemirror_mode": {
    "name": "ipython",
    "version": 3
   },
   "file_extension": ".py",
   "mimetype": "text/x-python",
   "name": "python",
   "nbconvert_exporter": "python",
   "pygments_lexer": "ipython3",
   "version": "3.7.3"
  }
 },
 "nbformat": 4,
 "nbformat_minor": 2
}
