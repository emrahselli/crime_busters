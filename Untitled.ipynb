{
 "cells": [
  {
   "cell_type": "code",
   "execution_count": 1,
   "metadata": {},
   "outputs": [],
   "source": [
    "import pandas as pd\n",
    "\n",
    "from flask import (\n",
    "    Flask,\n",
    "    render_template,\n",
    "    jsonify)\n",
    "\n",
    "from flask_sqlalchemy import SQLAlchemy"
   ]
  },
  {
   "cell_type": "code",
   "execution_count": 7,
   "metadata": {},
   "outputs": [],
   "source": [
    "from sqlalchemy import create_engine"
   ]
  },
  {
   "cell_type": "code",
   "execution_count": 8,
   "metadata": {},
   "outputs": [],
   "source": [
    "con =create_engine(\"sqlite:///db/merg_dt.sqlite\")"
   ]
  },
  {
   "cell_type": "code",
   "execution_count": 11,
   "metadata": {},
   "outputs": [
    {
     "data": {
      "text/html": [
       "<div>\n",
       "<style scoped>\n",
       "    .dataframe tbody tr th:only-of-type {\n",
       "        vertical-align: middle;\n",
       "    }\n",
       "\n",
       "    .dataframe tbody tr th {\n",
       "        vertical-align: top;\n",
       "    }\n",
       "\n",
       "    .dataframe thead th {\n",
       "        text-align: right;\n",
       "    }\n",
       "</style>\n",
       "<table border=\"1\" class=\"dataframe\">\n",
       "  <thead>\n",
       "    <tr style=\"text-align: right;\">\n",
       "      <th></th>\n",
       "      <th>id</th>\n",
       "      <th>Areaname</th>\n",
       "      <th>sixteen_plus_unemployed</th>\n",
       "      <th>income_per_capital</th>\n",
       "      <th>crime_no</th>\n",
       "    </tr>\n",
       "  </thead>\n",
       "  <tbody>\n",
       "  </tbody>\n",
       "</table>\n",
       "</div>"
      ],
      "text/plain": [
       "Empty DataFrame\n",
       "Columns: [id, Areaname, sixteen_plus_unemployed, income_per_capital, crime_no]\n",
       "Index: []"
      ]
     },
     "execution_count": 11,
     "metadata": {},
     "output_type": "execute_result"
    }
   ],
   "source": [
    "pd.read_sql_table(\"crime\", con)"
   ]
  },
  {
   "cell_type": "code",
   "execution_count": 6,
   "metadata": {},
   "outputs": [],
   "source": [
    "app = Flask(__name__)\n",
    "\n",
    "# The database URI\n",
    "app.config['SQLALCHEMY_DATABASE_URI'] = \"sqlite:///db/merg_dt.sqlite\""
   ]
  },
  {
   "cell_type": "code",
   "execution_count": null,
   "metadata": {},
   "outputs": [],
   "source": []
  },
  {
   "cell_type": "code",
   "execution_count": null,
   "metadata": {},
   "outputs": [],
   "source": []
  },
  {
   "cell_type": "code",
   "execution_count": null,
   "metadata": {},
   "outputs": [],
   "source": []
  },
  {
   "cell_type": "code",
   "execution_count": 6,
   "metadata": {},
   "outputs": [
    {
     "name": "stderr",
     "output_type": "stream",
     "text": [
      "C:\\Users\\DelL\\Anaconda3\\lib\\site-packages\\flask_sqlalchemy\\__init__.py:835: FSADeprecationWarning: SQLALCHEMY_TRACK_MODIFICATIONS adds significant overhead and will be disabled by default in the future.  Set it to True or False to suppress this warning.\n",
      "  'SQLALCHEMY_TRACK_MODIFICATIONS adds significant overhead and '\n"
     ]
    }
   ],
   "source": [
    "db = SQLAlchemy(app)\n",
    "\n",
    "\n",
    "# Create our database model\n",
    "class Crime(db.Model):\n",
    "    __tablename__ = 'crime'\n",
    "\n",
    "    id = db.Column(db.Integer, primary_key=True)\n",
    "    Areaname = db.Column(db.String)\n",
    "    sixteen_plus_unemployed = db.Column(db.Float)\n",
    "    income_per_capital = db.Column(db.Integer)\n",
    "    crime_no = db.Column(db.Integer)\n",
    "\n",
    "    def __repr__(self):\n",
    "        return '<Crime %r>' % (self.name)\n",
    "\n",
    "\n",
    "# Create database tables\n",
    "@app.before_first_request\n",
    "def setup():\n",
    "    # Recreate database each time for demo\n",
    "    # db.drop_all()\n",
    "    db.create_all()\n",
    "\n",
    "\n",
    "@app.route(\"/\")\n",
    "def home():\n",
    "    \"\"\"Render Home Page.\"\"\"\n",
    "    return render_template(\"index.html\")\n",
    "\n",
    "\n",
    "@app.route(\"/crime\")\n",
    "def crime_data():\n",
    "    \"\"\"Return ward name, income, unemployment and crime incidence number\"\"\"\n",
    "\n",
    "    # Query for the data\n",
    "    results = db.session.query(Crime.Areaname, Crime.income_per_capital, Crime.sixteen_plus_unemployed, Crime.crime_no).order_by(Crime.income_per_capital.desc()).all()\n",
    "\n",
    "\n",
    "    # Create lists from the query result\n",
    "    ward_name = [result[0] for result in results]\n",
    "    income = [int(result[1]) for result in results]\n",
    "    unemployment = [int(result[2]) for result in results]\n",
    "    crime = [int(result[3]) for result in results]\n",
    "    print(str(ward_name))"
   ]
  },
  {
   "cell_type": "code",
   "execution_count": 4,
   "metadata": {},
   "outputs": [
    {
     "ename": "NameError",
     "evalue": "name 'ward_name' is not defined",
     "output_type": "error",
     "traceback": [
      "\u001b[1;31m---------------------------------------------------------------------------\u001b[0m",
      "\u001b[1;31mNameError\u001b[0m                                 Traceback (most recent call last)",
      "\u001b[1;32m<ipython-input-4-788024be2155>\u001b[0m in \u001b[0;36m<module>\u001b[1;34m\u001b[0m\n\u001b[1;32m----> 1\u001b[1;33m \u001b[0mward_name\u001b[0m\u001b[1;33m\u001b[0m\u001b[1;33m\u001b[0m\u001b[0m\n\u001b[0m",
      "\u001b[1;31mNameError\u001b[0m: name 'ward_name' is not defined"
     ]
    }
   ],
   "source": [
    "ward_name"
   ]
  },
  {
   "cell_type": "code",
   "execution_count": null,
   "metadata": {},
   "outputs": [],
   "source": []
  }
 ],
 "metadata": {
  "kernelspec": {
   "display_name": "Python 3",
   "language": "python",
   "name": "python3"
  },
  "language_info": {
   "codemirror_mode": {
    "name": "ipython",
    "version": 3
   },
   "file_extension": ".py",
   "mimetype": "text/x-python",
   "name": "python",
   "nbconvert_exporter": "python",
   "pygments_lexer": "ipython3",
   "version": "3.7.1"
  }
 },
 "nbformat": 4,
 "nbformat_minor": 2
}
